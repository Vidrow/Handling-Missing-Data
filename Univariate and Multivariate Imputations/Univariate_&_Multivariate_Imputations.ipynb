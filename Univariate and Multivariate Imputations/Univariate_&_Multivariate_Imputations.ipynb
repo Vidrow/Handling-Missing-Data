{
  "nbformat": 4,
  "nbformat_minor": 0,
  "metadata": {
    "colab": {
      "name": "Univariate & Multivariate Imputations.ipynb",
      "provenance": [],
      "collapsed_sections": []
    },
    "kernelspec": {
      "name": "python3",
      "display_name": "Python 3"
    },
    "language_info": {
      "name": "python"
    }
  },
  "cells": [
    {
      "cell_type": "code",
      "execution_count": 59,
      "metadata": {
        "id": "48tXcdOc1NdE"
      },
      "outputs": [],
      "source": [
        "import pandas as pd\n",
        "import numpy as np"
      ]
    },
    {
      "cell_type": "code",
      "source": [
        "data = pd.read_csv('/content/titanic.csv')[['Age','Pclass','Fare','Survived']]"
      ],
      "metadata": {
        "id": "pYYSR-JH2Oxo"
      },
      "execution_count": 61,
      "outputs": []
    },
    {
      "cell_type": "code",
      "source": [
        "x = data.drop(columns=[\"Survived\"])\n",
        "y = data[\"Survived\"]"
      ],
      "metadata": {
        "id": "OA4OCQlx2mht"
      },
      "execution_count": 62,
      "outputs": []
    },
    {
      "cell_type": "code",
      "source": [
        "from sklearn.model_selection import train_test_split\n",
        "x_train,x_test,y_train,y_test = train_test_split(x,y,random_state=2,test_size=0.2)"
      ],
      "metadata": {
        "id": "OyY-cYbl3aha"
      },
      "execution_count": 63,
      "outputs": []
    },
    {
      "cell_type": "markdown",
      "source": [
        "**Using KNN Imputer**"
      ],
      "metadata": {
        "id": "aTKWMnsj_hkL"
      }
    },
    {
      "cell_type": "code",
      "source": [
        "#Fill null values using KNN Imputer\n",
        "from sklearn.impute import KNNImputer\n",
        "knn = KNNImputer(n_neighbors=2,weights=\"distance\")\n",
        "\n",
        "new_x_train = knn.fit_transform(x_train)\n",
        "new_x_test = knn.transform(x_test)"
      ],
      "metadata": {
        "id": "ybmCGVta44RZ"
      },
      "execution_count": 88,
      "outputs": []
    },
    {
      "cell_type": "code",
      "source": [
        "#Model building\n",
        "from sklearn.linear_model import LogisticRegression\n",
        "lr =LogisticRegression()\n",
        "lr.fit(new_x_train,y_train)\n",
        "y_pred = lr.predict(new_x_test)"
      ],
      "metadata": {
        "id": "7hzn7sdL7J4e"
      },
      "execution_count": 89,
      "outputs": []
    },
    {
      "cell_type": "code",
      "source": [
        "#Calculating accuracy\n",
        "from sklearn.metrics import accuracy_score\n",
        "accuracy_score(y_test,y_pred)"
      ],
      "metadata": {
        "colab": {
          "base_uri": "https://localhost:8080/"
        },
        "id": "_IdSiCQ88R22",
        "outputId": "65fa91a0-4a33-4ff9-e949-6eeaba4467a3"
      },
      "execution_count": 90,
      "outputs": [
        {
          "output_type": "execute_result",
          "data": {
            "text/plain": [
              "0.7150837988826816"
            ]
          },
          "metadata": {},
          "execution_count": 90
        }
      ]
    },
    {
      "cell_type": "markdown",
      "source": [
        "**Using Simple Imputer**"
      ],
      "metadata": {
        "id": "Bwv6o1Qz9PQ1"
      }
    },
    {
      "cell_type": "code",
      "source": [
        "#Fill null values using Simple imputer\n",
        "from sklearn.impute import SimpleImputer\n",
        "si = SimpleImputer()\n",
        "x_train_2 = si.fit_transform(x_train)\n",
        "x_test_2 = si.transform(x_test)"
      ],
      "metadata": {
        "id": "scPu-82N9TYj"
      },
      "execution_count": 75,
      "outputs": []
    },
    {
      "cell_type": "code",
      "source": [
        "#Model building\n",
        "from sklearn.linear_model import LogisticRegression\n",
        "lr =LogisticRegression()\n",
        "lr.fit(x_train_2,y_train)\n",
        "y_pred2 = lr.predict(x_test_2)"
      ],
      "metadata": {
        "id": "PZuXEh0V93AS"
      },
      "execution_count": 76,
      "outputs": []
    },
    {
      "cell_type": "code",
      "source": [
        "#Calculating accuracy\n",
        "from sklearn.metrics import accuracy_score\n",
        "accuracy_score(y_test,y_pred2)"
      ],
      "metadata": {
        "colab": {
          "base_uri": "https://localhost:8080/"
        },
        "id": "tl1ZOCkA943d",
        "outputId": "ef40da0b-cf23-4e76-e462-0c6c7ab0535b"
      },
      "execution_count": 78,
      "outputs": [
        {
          "output_type": "execute_result",
          "data": {
            "text/plain": [
              "0.6927374301675978"
            ]
          },
          "metadata": {},
          "execution_count": 78
        }
      ]
    }
  ]
}