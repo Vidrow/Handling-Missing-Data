{
  "nbformat": 4,
  "nbformat_minor": 0,
  "metadata": {
    "colab": {
      "name": "Complete Case Analysis.ipynb",
      "provenance": []
    },
    "kernelspec": {
      "name": "python3",
      "display_name": "Python 3"
    },
    "language_info": {
      "name": "python"
    }
  },
  "cells": [
    {
      "cell_type": "code",
      "execution_count": 1,
      "metadata": {
        "id": "vEButZq0UM_U"
      },
      "outputs": [],
      "source": [
        "import pandas as pd\n",
        "import numpy as np"
      ]
    },
    {
      "cell_type": "code",
      "source": [
        "data = pd.read_csv(\"/content/data_science_job.csv\")"
      ],
      "metadata": {
        "id": "7CuibLsZUxGF"
      },
      "execution_count": 2,
      "outputs": []
    },
    {
      "cell_type": "code",
      "source": [
        "#Check for percentage of null values in each variable/feature/column\n",
        "data.isnull().mean()*100"
      ],
      "metadata": {
        "id": "yLzOlDc-U1pp"
      },
      "execution_count": null,
      "outputs": []
    },
    {
      "cell_type": "markdown",
      "source": [
        "**Complete Case Analysis**<br> In CCA we discard all the observations which are null.\n",
        "\n",
        "The discarding is done considering some constraint according to  the data quantity or quality<br>\n",
        "\n",
        "usually constraints go like this:<br>\n",
        "\n",
        "Null value of a column should be 5%<\n"
      ],
      "metadata": {
        "id": "QG0UjC0-VKp5"
      }
    },
    {
      "cell_type": "code",
      "source": [
        "#Get names of all the columns whose null value % <5% and >0%\n",
        "col = [i for i in data.columns if data[i].isnull().mean()*100<5 and data[i].isnull().mean()*100>0 ]\n",
        "col"
      ],
      "metadata": {
        "colab": {
          "base_uri": "https://localhost:8080/"
        },
        "id": "e_luLZbmVqVh",
        "outputId": "5577f4d4-de17-406b-f885-77536f55cb11"
      },
      "execution_count": 5,
      "outputs": [
        {
          "output_type": "execute_result",
          "data": {
            "text/plain": [
              "['city_development_index',\n",
              " 'enrolled_university',\n",
              " 'education_level',\n",
              " 'experience',\n",
              " 'training_hours']"
            ]
          },
          "metadata": {},
          "execution_count": 5
        }
      ]
    },
    {
      "cell_type": "code",
      "source": [
        "#Applying CCA to all these columns and saving it to new dataframe to compare before and after results.\n",
        "\n",
        "new_data = data[col].dropna()\n",
        "new_data.isnull().sum() # 0 null values remained\n",
        "(new_data.shape[0]/data.shape[0])*100 # 89.68577095730244 % data remained from original\n"
      ],
      "metadata": {
        "colab": {
          "base_uri": "https://localhost:8080/"
        },
        "id": "ez2yvd2jWc2f",
        "outputId": "38876c77-3388-4e00-c8d0-007c94d25a60"
      },
      "execution_count": 6,
      "outputs": [
        {
          "output_type": "execute_result",
          "data": {
            "text/plain": [
              "89.68577095730244"
            ]
          },
          "metadata": {},
          "execution_count": 6
        }
      ]
    }
  ]
}